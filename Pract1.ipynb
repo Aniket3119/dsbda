{
 "cells": [
  {
   "cell_type": "code",
   "execution_count": 1,
   "id": "6b717750-5864-48f8-8d12-9a445a685bba",
   "metadata": {},
   "outputs": [
    {
     "data": {
      "text/plain": [
       "20"
      ]
     },
     "execution_count": 1,
     "metadata": {},
     "output_type": "execute_result"
    }
   ],
   "source": [
    "import numpy as np\n",
    "#initailize the array\n",
    "a= np.array([\n",
    "    [100,200,150,300], #product1\n",
    "    [50,60,40,80],     #product2\n",
    "    [300,400,350,500], #product3\n",
    "    [200,250,220,270], #product4\n",
    "    [80,90,70,100]     #product5\n",
    "])\n",
    "a.size"
   ]
  },
  {
   "cell_type": "code",
   "execution_count": 2,
   "id": "1ce6417c-95f1-4b1b-86ce-66bc41815494",
   "metadata": {},
   "outputs": [
    {
     "data": {
      "text/plain": [
       "dtype('int32')"
      ]
     },
     "execution_count": 2,
     "metadata": {},
     "output_type": "execute_result"
    }
   ],
   "source": [
    "a= np.array([\n",
    "    [100,200,150,300], #product1\n",
    "    [50,60,40,80],     #product2\n",
    "    [300,400,350,500], #product3\n",
    "    [200,250,220,270], #product4\n",
    "    [80,90,70,100]     #product5\n",
    "])\n",
    "a.dtype"
   ]
  },
  {
   "cell_type": "code",
   "execution_count": 3,
   "id": "ec3c1fa6-ecf4-43b9-b155-550e26a839f1",
   "metadata": {},
   "outputs": [
    {
     "data": {
      "text/plain": [
       "4"
      ]
     },
     "execution_count": 3,
     "metadata": {},
     "output_type": "execute_result"
    }
   ],
   "source": [
    "a= np.array([\n",
    "    [100,200,150,300], #product1\n",
    "    [50,60,40,80],     #product2\n",
    "    [300,400,350,500], #product3\n",
    "    [200,250,220,270], #product4\n",
    "    [80,90,70,100]     #product5\n",
    "])\n",
    "a.itemsize"
   ]
  },
  {
   "cell_type": "code",
   "execution_count": 4,
   "id": "b129698a-5046-4fed-a733-29bd6f7e6f7a",
   "metadata": {},
   "outputs": [
    {
     "data": {
      "text/plain": [
       "3810"
      ]
     },
     "execution_count": 4,
     "metadata": {},
     "output_type": "execute_result"
    }
   ],
   "source": [
    "a= np.array([\n",
    "    [100,200,150,300], #product1\n",
    "    [50,60,40,80],     #product2\n",
    "    [300,400,350,500], #product3\n",
    "    [200,250,220,270], #product4\n",
    "    [80,90,70,100]     #product5\n",
    "])\n",
    "a.sum()"
   ]
  },
  {
   "cell_type": "code",
   "execution_count": 5,
   "id": "a20a0ab0-5008-42a4-92bd-2a79f99819f4",
   "metadata": {},
   "outputs": [
    {
     "name": "stdout",
     "output_type": "stream",
     "text": [
      "[[100 200 150 300]\n",
      " [ 50  60  40  80]\n",
      " [290 390 340 490]\n",
      " [200 250 220 270]\n",
      " [ 80  90  70 100]]\n"
     ]
    }
   ],
   "source": [
    "a= np.array([\n",
    "    [100,200,150,300], #product1\n",
    "    [50,60,40,80],     #product2\n",
    "    [300,400,350,500], #product3\n",
    "    [200,250,220,270], #product4\n",
    "    [80,90,70,100]     #product5\n",
    "])\n",
    "a[2]-=10\n",
    "print(a)"
   ]
  },
  {
   "cell_type": "code",
   "execution_count": 6,
   "id": "74789fa3-486a-4461-a67b-be7ec7252fd1",
   "metadata": {},
   "outputs": [
    {
     "name": "stdout",
     "output_type": "stream",
     "text": [
      "[[120 220 170 320]\n",
      " [ 70  80  60 100]\n",
      " [320 420 370 520]\n",
      " [220 270 240 290]\n",
      " [100 110  90 120]]\n"
     ]
    }
   ],
   "source": [
    "a= np.array([\n",
    "    [100,200,150,300], #product1\n",
    "    [50,60,40,80],     #product2\n",
    "    [300,400,350,500], #product3\n",
    "    [200,250,220,270], #product4\n",
    "    [80,90,70,100]     #product5\n",
    "])\n",
    "a+=20\n",
    "print(a)"
   ]
  },
  {
   "cell_type": "code",
   "execution_count": 7,
   "id": "f8e02351-de26-4ed6-814f-3fcbe21e033a",
   "metadata": {},
   "outputs": [
    {
     "name": "stdout",
     "output_type": "stream",
     "text": [
      "[[100 400 150 300]\n",
      " [ 50 120  40  80]\n",
      " [300 800 350 500]\n",
      " [200 500 220 270]\n",
      " [ 80 180  70 100]]\n"
     ]
    }
   ],
   "source": [
    "a= np.array([\n",
    "    [100,200,150,300], #product1\n",
    "    [50,60,40,80],     #product2\n",
    "    [300,400,350,500], #product3\n",
    "    [200,250,220,270], #product4\n",
    "    [80,90,70,100]     #product5\n",
    "])\n",
    "a[0:6,1]*=2\n",
    "print(a)"
   ]
  },
  {
   "cell_type": "code",
   "execution_count": 8,
   "id": "9ed2f772-62ee-4e01-9d9b-2846baf1545e",
   "metadata": {},
   "outputs": [
    {
     "data": {
      "text/plain": [
       "array([ 730, 1000,  830, 1250])"
      ]
     },
     "execution_count": 8,
     "metadata": {},
     "output_type": "execute_result"
    }
   ],
   "source": [
    "a= np.array([\n",
    "    [100,200,150,300], #product1\n",
    "    [50,60,40,80],     #product2\n",
    "    [300,400,350,500], #product3\n",
    "    [200,250,220,270], #product4\n",
    "    [80,90,70,100]     #product5\n",
    "])\n",
    "np.sum(a,axis=0)"
   ]
  },
  {
   "cell_type": "code",
   "execution_count": 9,
   "id": "d0aef094-e556-4f7d-a9de-3d75f2019789",
   "metadata": {},
   "outputs": [
    {
     "data": {
      "text/plain": [
       "array([ 750,  230, 1550,  940,  340])"
      ]
     },
     "execution_count": 9,
     "metadata": {},
     "output_type": "execute_result"
    }
   ],
   "source": [
    "a= np.array([\n",
    "    [100,200,150,300], #product1\n",
    "    [50,60,40,80],     #product2\n",
    "    [300,400,350,500], #product3\n",
    "    [200,250,220,270], #product4\n",
    "    [80,90,70,100]     #product5\n",
    "])\n",
    "np.sum(a,axis=1)"
   ]
  },
  {
   "cell_type": "code",
   "execution_count": 10,
   "id": "b72d420a-a803-4a2c-83bf-a1bfadb38e72",
   "metadata": {},
   "outputs": [
    {
     "data": {
      "text/plain": [
       "array([100,  40, 300, 200,  70])"
      ]
     },
     "execution_count": 10,
     "metadata": {},
     "output_type": "execute_result"
    }
   ],
   "source": [
    "a= np.array([\n",
    "    [100,200,150,300], #product1\n",
    "    [50,60,40,80],     #product2\n",
    "    [300,400,350,500], #product3\n",
    "    [200,250,220,270], #product4\n",
    "    [80,90,70,100]     #product5\n",
    "])\n",
    "np.min(a,axis=1)"
   ]
  },
  {
   "cell_type": "code",
   "execution_count": 11,
   "id": "54c19f32-39a7-467f-be7e-bad17073e062",
   "metadata": {},
   "outputs": [
    {
     "data": {
      "text/plain": [
       "array([300, 400, 350, 500])"
      ]
     },
     "execution_count": 11,
     "metadata": {},
     "output_type": "execute_result"
    }
   ],
   "source": [
    "a= np.array([\n",
    "    [100,200,150,300], #product1\n",
    "    [50,60,40,80],     #product2\n",
    "    [300,400,350,500], #product3\n",
    "    [200,250,220,270], #product4\n",
    "    [80,90,70,100]     #product5\n",
    "])\n",
    "np.max(a,axis=0)"
   ]
  },
  {
   "cell_type": "code",
   "execution_count": 12,
   "id": "386236e4-cbdf-4d1e-9951-73b8e38cb586",
   "metadata": {},
   "outputs": [
    {
     "data": {
      "text/plain": [
       "array([187.5,  57.5, 387.5, 235. ,  85. ])"
      ]
     },
     "execution_count": 12,
     "metadata": {},
     "output_type": "execute_result"
    }
   ],
   "source": [
    "a= np.array([\n",
    "    [100,200,150,300], #product1\n",
    "    [50,60,40,80],     #product2\n",
    "    [300,400,350,500], #product3\n",
    "    [200,250,220,270], #product4\n",
    "    [80,90,70,100]     #product5\n",
    "])\n",
    "np.mean(a,axis=1)"
   ]
  },
  {
   "cell_type": "code",
   "execution_count": 13,
   "id": "47fba7ec-2008-4b53-9a15-af836a5495af",
   "metadata": {},
   "outputs": [
    {
     "data": {
      "text/plain": [
       "array([50, 60, 40, 80])"
      ]
     },
     "execution_count": 13,
     "metadata": {},
     "output_type": "execute_result"
    }
   ],
   "source": [
    "a= np.array([\n",
    "    [100,200,150,300], #product1\n",
    "    [50,60,40,80],     #product2\n",
    "    [300,400,350,500], #product3\n",
    "    [200,250,220,270], #product4\n",
    "    [80,90,70,100]     #product5\n",
    "])\n",
    "a[1]"
   ]
  },
  {
   "cell_type": "code",
   "execution_count": 14,
   "id": "ec2be85f-3190-4a26-86f8-50248b93fb57",
   "metadata": {},
   "outputs": [
    {
     "data": {
      "text/plain": [
       "array([300,  80, 500, 270, 100])"
      ]
     },
     "execution_count": 14,
     "metadata": {},
     "output_type": "execute_result"
    }
   ],
   "source": [
    "a= np.array([\n",
    "    [100,200,150,300], #product1\n",
    "    [50,60,40,80],     #product2\n",
    "    [300,400,350,500], #product3\n",
    "    [200,250,220,270], #product4\n",
    "    [80,90,70,100]     #product5\n",
    "])\n",
    "a[:,3]"
   ]
  },
  {
   "cell_type": "code",
   "execution_count": 15,
   "id": "4e823dba-a31d-4cde-85df-ddeda079015d",
   "metadata": {},
   "outputs": [
    {
     "data": {
      "text/plain": [
       "array([[100, 200],\n",
       "       [ 50,  60],\n",
       "       [300, 400]])"
      ]
     },
     "execution_count": 15,
     "metadata": {},
     "output_type": "execute_result"
    }
   ],
   "source": [
    "a= np.array([\n",
    "    [100,200,150,300], #product1\n",
    "    [50,60,40,80],     #product2\n",
    "    [300,400,350,500], #product3\n",
    "    [200,250,220,270], #product4\n",
    "    [80,90,70,100]     #product5\n",
    "])\n",
    "a[0:3,0:2]"
   ]
  },
  {
   "cell_type": "code",
   "execution_count": 16,
   "id": "2f8dbd36-68ff-4e52-9905-34b8200a0ec9",
   "metadata": {},
   "outputs": [
    {
     "data": {
      "text/plain": [
       "array([[220, 270],\n",
       "       [ 70, 100]])"
      ]
     },
     "execution_count": 16,
     "metadata": {},
     "output_type": "execute_result"
    }
   ],
   "source": [
    "a= np.array([\n",
    "    [100,200,150,300], #product1\n",
    "    [50,60,40,80],     #product2\n",
    "    [300,400,350,500], #product3\n",
    "    [200,250,220,270], #product4\n",
    "    [80,90,70,100]     #product5\n",
    "])\n",
    "a[3:6,2:4]"
   ]
  },
  {
   "cell_type": "code",
   "execution_count": 17,
   "id": "f8436e9c-e51a-4ae2-8205-365d61c174be",
   "metadata": {},
   "outputs": [
    {
     "data": {
      "text/plain": [
       "array([[100]])"
      ]
     },
     "execution_count": 17,
     "metadata": {},
     "output_type": "execute_result"
    }
   ],
   "source": [
    "a= np.array([\n",
    "    [100,200,150,300], #product1\n",
    "    [50,60,40,80],     #product2\n",
    "    [300,400,350,500], #product3\n",
    "    [200,250,220,270], #product4\n",
    "    [80,90,70,100]     #product5\n",
    "])\n",
    "a[4:6,3:4]"
   ]
  },
  {
   "cell_type": "code",
   "execution_count": 18,
   "id": "41b27465-ba9f-40c9-9404-8738e87909e8",
   "metadata": {},
   "outputs": [
    {
     "name": "stdout",
     "output_type": "stream",
     "text": [
      "[[100 200 150 300]\n",
      " [ 50  60  40 100]\n",
      " [300 400 350 500]\n",
      " [200 250 220 270]\n",
      " [ 80  90  70 100]]\n"
     ]
    }
   ],
   "source": [
    "a= np.array([\n",
    "    [100,200,150,300], #product1\n",
    "    [50,60,40,80],     #product2\n",
    "    [300,400,350,500], #product3\n",
    "    [200,250,220,270], #product4\n",
    "    [80,90,70,100]     #product5\n",
    "])\n",
    "a[1,3]=100\n",
    "print(a)"
   ]
  },
  {
   "cell_type": "code",
   "execution_count": 19,
   "id": "e3f9f267-0c74-4fa1-85b6-1cb46e227324",
   "metadata": {},
   "outputs": [
    {
     "data": {
      "text/plain": [
       "220"
      ]
     },
     "execution_count": 19,
     "metadata": {},
     "output_type": "execute_result"
    }
   ],
   "source": [
    "a= np.array([\n",
    "    [100,200,150,300], #product1\n",
    "    [50,60,40,80],     #product2\n",
    "    [300,400,350,500], #product3\n",
    "    [200,250,220,270], #product4\n",
    "    [80,90,70,100]     #product5\n",
    "])\n",
    "a[0:0]\n",
    "a[3,2]"
   ]
  },
  {
   "cell_type": "code",
   "execution_count": 20,
   "id": "49ce4287-b833-4f3d-925a-201c4eab4c27",
   "metadata": {},
   "outputs": [
    {
     "data": {
      "text/plain": [
       "array([100, 220])"
      ]
     },
     "execution_count": 20,
     "metadata": {},
     "output_type": "execute_result"
    }
   ],
   "source": [
    "a= np.array([\n",
    "    [100,200,150,300], #product1\n",
    "    [50,60,40,80],     #product2\n",
    "    [300,400,350,500], #product3\n",
    "    [200,250,220,270], #product4\n",
    "    [80,90,70,100]     #product5\n",
    "])\n",
    "stock_level=a[[0,3],[0,2]]\n",
    "stock_level\n"
   ]
  },
  {
   "cell_type": "code",
   "execution_count": null,
   "id": "f5d0d0d6-6e4c-43fd-a5e9-2e2cf14048b5",
   "metadata": {},
   "outputs": [],
   "source": []
  }
 ],
 "metadata": {
  "kernelspec": {
   "display_name": "Python 3 (ipykernel)",
   "language": "python",
   "name": "python3"
  },
  "language_info": {
   "codemirror_mode": {
    "name": "ipython",
    "version": 3
   },
   "file_extension": ".py",
   "mimetype": "text/x-python",
   "name": "python",
   "nbconvert_exporter": "python",
   "pygments_lexer": "ipython3",
   "version": "3.12.7"
  }
 },
 "nbformat": 4,
 "nbformat_minor": 5
}
